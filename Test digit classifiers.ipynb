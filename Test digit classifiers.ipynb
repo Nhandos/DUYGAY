{
 "cells": [
  {
   "cell_type": "code",
   "execution_count": 24,
   "id": "4142d4e8",
   "metadata": {},
   "outputs": [
    {
     "name": "stdout",
     "output_type": "stream",
     "text": [
      "predicted 0, actual 0\n",
      "predicted 0, actual 0\n",
      "predicted 0, actual 0\n",
      "predicted 0, actual 0\n",
      "predicted 0, actual 0\n",
      "predicted 7, actual 1\n",
      "predicted 7, actual 1\n",
      "predicted 7, actual 1\n",
      "predicted 7, actual 1\n",
      "predicted 3, actual 1\n",
      "predicted 2, actual 2\n",
      "predicted 2, actual 2\n",
      "predicted 2, actual 2\n",
      "predicted 2, actual 2\n",
      "predicted 2, actual 2\n",
      "predicted 3, actual 3\n",
      "predicted 3, actual 3\n",
      "predicted 3, actual 3\n",
      "predicted 3, actual 3\n",
      "predicted 3, actual 3\n",
      "predicted 4, actual 4\n",
      "predicted 4, actual 4\n",
      "predicted 4, actual 4\n",
      "predicted 6, actual 4\n",
      "predicted 6, actual 4\n",
      "predicted 5, actual 5\n",
      "predicted 5, actual 5\n",
      "predicted 5, actual 5\n",
      "predicted 5, actual 5\n",
      "predicted 5, actual 5\n",
      "predicted 5, actual 6\n",
      "predicted 5, actual 6\n",
      "predicted 5, actual 6\n",
      "predicted 6, actual 6\n",
      "predicted 5, actual 6\n",
      "predicted 7, actual 7\n",
      "predicted 7, actual 7\n",
      "predicted 7, actual 7\n",
      "predicted 1, actual 7\n",
      "predicted 7, actual 7\n",
      "predicted 3, actual 8\n",
      "predicted 3, actual 8\n",
      "predicted 8, actual 8\n",
      "predicted 3, actual 8\n",
      "predicted 3, actual 8\n",
      "predicted 3, actual 9\n",
      "predicted 3, actual 9\n",
      "predicted 9, actual 9\n",
      "predicted 3, actual 9\n",
      "predicted 3, actual 9\n",
      "Error rate 40.0%\n"
     ]
    }
   ],
   "source": [
    "import os\n",
    "import glob\n",
    "from subprocess import run\n",
    "TEST_FOLDER = './data/digits_original/'\n",
    "\n",
    "n_total = 0\n",
    "n_fail = 0\n",
    "for i, number in enumerate(['Zero', 'One', 'Two', 'Three', 'Four', 'Five', 'Six', 'Seven', 'Eight', 'Nine']):\n",
    "    \n",
    "    #print(f'Testing number {i}')\n",
    "    images = glob.glob(os.path.join(TEST_FOLDER, f'{number}*.jpg'))\n",
    "    for image in images:\n",
    "        predicted = !python3 main.py $image\n",
    "        predicted = int(predicted[0][19])\n",
    "        print(f'predicted {predicted}, actual {i}')\n",
    "        n_total += 1\n",
    "        n_fail += 1 if predicted != i else 0\n",
    "        \n",
    "print(f'Error rate {n_fail/n_total * 100}%')"
   ]
  },
  {
   "cell_type": "code",
   "execution_count": null,
   "id": "855f0afc",
   "metadata": {},
   "outputs": [],
   "source": []
  },
  {
   "cell_type": "code",
   "execution_count": null,
   "id": "36ad2014",
   "metadata": {},
   "outputs": [],
   "source": []
  }
 ],
 "metadata": {
  "kernelspec": {
   "display_name": "Python 3",
   "language": "python",
   "name": "python3"
  },
  "language_info": {
   "codemirror_mode": {
    "name": "ipython",
    "version": 3
   },
   "file_extension": ".py",
   "mimetype": "text/x-python",
   "name": "python",
   "nbconvert_exporter": "python",
   "pygments_lexer": "ipython3",
   "version": "3.6.9"
  }
 },
 "nbformat": 4,
 "nbformat_minor": 5
}
