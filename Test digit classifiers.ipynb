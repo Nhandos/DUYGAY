{
 "cells": [
  {
   "cell_type": "code",
   "execution_count": null,
   "id": "4142d4e8",
   "metadata": {},
   "outputs": [],
   "source": [
    "import os\n",
    "import glob\n",
    "TEST_FOLDER = './digits_original/'\n",
    "\n",
    "for number in ['Zero', 'One', 'Two', 'Three', 'Four', 'Five', 'Six', 'Seven', 'Eight', 'Nine']:\n",
    "    \n",
    "    images = glob.glob(os.path.join(TEST_FOLDER, f'{number}*.jpg'))\n",
    "    for image in images:\n",
    "        !python3 main.py $image\n",
    "    \n",
    "\n"
   ]
  },
  {
   "cell_type": "code",
   "execution_count": null,
   "id": "844a83ea",
   "metadata": {},
   "outputs": [],
   "source": []
  }
 ],
 "metadata": {
  "kernelspec": {
   "display_name": "Python 3",
   "language": "python",
   "name": "python3"
  },
  "language_info": {
   "codemirror_mode": {
    "name": "ipython",
    "version": 3
   },
   "file_extension": ".py",
   "mimetype": "text/x-python",
   "name": "python",
   "nbconvert_exporter": "python",
   "pygments_lexer": "ipython3",
   "version": "3.6.9"
  }
 },
 "nbformat": 4,
 "nbformat_minor": 5
}
